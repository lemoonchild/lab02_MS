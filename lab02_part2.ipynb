{
 "cells": [
  {
   "cell_type": "markdown",
   "id": "529b3c89",
   "metadata": {},
   "source": [
    "# Implementación y Problemas para hallar ceros de una función"
   ]
  },
  {
   "cell_type": "markdown",
   "id": "9921b16c",
   "metadata": {},
   "source": [
    "### Problema #4"
   ]
  },
  {
   "cell_type": "markdown",
   "id": "778ff581",
   "metadata": {},
   "source": [
    "#### Funciones con métodos de encontrar raíces"
   ]
  },
  {
   "cell_type": "code",
   "execution_count": 12,
   "id": "3b23f9ca",
   "metadata": {},
   "outputs": [],
   "source": [
    "import math\n",
    "\n",
    "def bisection(f, a, b, tol=1e-6, max_iter=100):\n",
    "    \"\"\"\n",
    "    Método de la bisección para encontrar un cero de f en [a,b].\n",
    "    Parámetros:\n",
    "      f       : función continua\n",
    "      a, b    : extremos del intervalo (f(a)*f(b) < 0)\n",
    "      tol     : tolerancia en |f(c)| o en ancho de intervalo\n",
    "      max_iter: número máximo de iteraciones\n",
    "    Retorna:\n",
    "      approximations: lista de puntos medios sucesivos\n",
    "      c              : aproximación final del cero\n",
    "    \"\"\"\n",
    "    if f(a) * f(b) > 0:\n",
    "        raise ValueError(\"f(a) y f(b) deben tener signos opuestos.\")\n",
    "    approximations = []\n",
    "    for _ in range(max_iter):\n",
    "        c = 0.5*(a + b)\n",
    "        approximations.append(c)\n",
    "        fc = f(c)\n",
    "        # criterio de parada\n",
    "        if abs(fc) < tol or (b - a)/2 < tol:\n",
    "            return approximations, c\n",
    "        # reducir intervalo\n",
    "        if f(a)*fc < 0:\n",
    "            b = c\n",
    "        else:\n",
    "            a = c\n",
    "    return approximations, c\n",
    "\n",
    "\n",
    "def secant(f, x0, x1, tol=1e-6, max_iter=100):\n",
    "    \"\"\"\n",
    "    Método de la secante para encontrar un cero de f.\n",
    "    Parámetros:\n",
    "      f       : función (no requiere derivada)\n",
    "      x0, x1  : aproximaciones iniciales (deben ser distintas y preferiblemente f(x0)*f(x1)<0)\n",
    "      tol     : tolerancia en |f(x_n)| o en |x_n - x_{n-1}|\n",
    "      max_iter: número máximo de iteraciones\n",
    "    Retorna:\n",
    "      approximations: [x0, x1, x2, ...]\n",
    "      x2             : aproximación final del cero\n",
    "    \"\"\"\n",
    "    approximations = [x0, x1]\n",
    "    for _ in range(max_iter):\n",
    "        f0, f1 = f(x0), f(x1)\n",
    "        denom = (f1 - f0)\n",
    "        if denom == 0:\n",
    "            raise ZeroDivisionError(\"División por cero en método de la secante.\")\n",
    "        x2 = x1 - f1*(x1 - x0)/denom\n",
    "        approximations.append(x2)\n",
    "        if abs(f(x2)) < tol or abs(x2 - x1) < tol:\n",
    "            return approximations, x2\n",
    "        x0, x1 = x1, x2\n",
    "    return approximations, x2\n",
    "\n",
    "\n",
    "def newton_raphson(f, df, x0, tol=1e-6, max_iter=100):\n",
    "    \"\"\"\n",
    "    Método de Newton–Raphson para encontrar un cero de f.\n",
    "    Parámetros:\n",
    "      f, df   : función y su derivada\n",
    "      x0      : punto inicial\n",
    "      tol     : tolerancia en |f(x_n)| o en |x_n - x_{n-1}|\n",
    "      max_iter: número máximo de iteraciones\n",
    "    Retorna:\n",
    "      approximations: lista [x0, x1, x2, ...]\n",
    "      x_n            : aproximación final del cero\n",
    "    \"\"\"\n",
    "    approximations = [x0]\n",
    "    x = x0\n",
    "    for _ in range(max_iter):\n",
    "        dfx = df(x)\n",
    "        if dfx == 0:\n",
    "            raise ZeroDivisionError(\"Derivada nula en x = {:.5f}\".format(x))\n",
    "        x_new = x - f(x)/dfx\n",
    "        approximations.append(x_new)\n",
    "        if abs(f(x_new)) < tol or abs(x_new - x) < tol:\n",
    "            return approximations, x_new\n",
    "        x = x_new\n",
    "    return approximations, x_new\n"
   ]
  },
  {
   "cell_type": "code",
   "execution_count": 13,
   "id": "e826ce6b",
   "metadata": {},
   "outputs": [],
   "source": [
    "def find_root(\n",
    "    method: str,\n",
    "    f,\n",
    "    df=None,\n",
    "    a=None,\n",
    "    b=None,\n",
    "    x0=None,\n",
    "    x1=None,\n",
    "    tol: float = 1e-6,\n",
    "    max_iter: int = 100\n",
    "):\n",
    "    \"\"\"\n",
    "    Encuentra un cero de f usando uno de los tres métodos.\n",
    "    \n",
    "    Parámetros comunes:\n",
    "      method   : 'bisection', 'secant' o 'newton'\n",
    "      f        : función objetivo\n",
    "      tol      : tolerancia de parada\n",
    "      max_iter : iteraciones máximas\n",
    "\n",
    "    Parámetros específicos:\n",
    "      - Bisección: requiere a, b (intervalo con f(a)*f(b)<0)\n",
    "      - Secante:   requiere x0, x1\n",
    "      - Newton:    requiere x0 y df (derivada de f)\n",
    "\n",
    "    Retorna:\n",
    "      approximations, root\n",
    "    \"\"\"\n",
    "    method = method.lower()\n",
    "    if method == \"bisection\":\n",
    "        if a is None or b is None:\n",
    "            raise ValueError(\"Bisección requiere a y b\")\n",
    "        return bisection(f, a, b, tol=tol, max_iter=max_iter)\n",
    "\n",
    "    elif method == \"secant\":\n",
    "        if x0 is None or x1 is None:\n",
    "            raise ValueError(\"Secante requiere x0 y x1\")\n",
    "        return secant(f, x0, x1, tol=tol, max_iter=max_iter)\n",
    "\n",
    "    elif method == \"newton\":\n",
    "        if x0 is None or df is None:\n",
    "            raise ValueError(\"Newton-Raphson requiere x0 y df\")\n",
    "        return newton_raphson(f, df, x0, tol=tol, max_iter=max_iter)\n",
    "\n",
    "    else:\n",
    "        raise ValueError(f\"Método desconocido: {method!r}\")\n"
   ]
  },
  {
   "cell_type": "markdown",
   "id": "46f1f44b",
   "metadata": {},
   "source": [
    "#### Ejemplo de uso:"
   ]
  },
  {
   "cell_type": "code",
   "execution_count": 14,
   "id": "a475f11f",
   "metadata": {},
   "outputs": [
    {
     "name": "stdout",
     "output_type": "stream",
     "text": [
      "Bisección: 1.5213797017931938\n",
      "Secante: 1.5213797079848717\n",
      "Newton-Raphson: 1.5213797068045751\n"
     ]
    }
   ],
   "source": [
    "f  = lambda x: x**3 - x - 2\n",
    "df = lambda x: 3*x**2 - 1\n",
    "\n",
    "# Bisección\n",
    "b_approxs, b_root = find_root(\"bisection\", f, a=1.0, b=2.0, tol=1e-8)\n",
    "print(\"Bisección:\", b_root)\n",
    "\n",
    "# Secante\n",
    "s_approxs, s_root = find_root(\"secant\", f, x0=1.0, x1=2.0, tol=1e-8)\n",
    "print(\"Secante:\", s_root)\n",
    "\n",
    "# Newton-Raphson\n",
    "n_approxs, n_root = find_root(\"newton\", f, df=df, x0=1.5, tol=1e-8)\n",
    "print(\"Newton-Raphson:\", n_root)\n"
   ]
  },
  {
   "cell_type": "markdown",
   "id": "b8b91c56",
   "metadata": {},
   "source": [
    "### Problema 05"
   ]
  },
  {
   "cell_type": "code",
   "execution_count": 42,
   "id": "baab7e86",
   "metadata": {},
   "outputs": [],
   "source": [
    "import numpy as np\n",
    "import matplotlib.pyplot as plt"
   ]
  },
  {
   "cell_type": "code",
   "execution_count": 43,
   "id": "44404f76",
   "metadata": {},
   "outputs": [],
   "source": [
    "g  = lambda x: x**2 + 1/(x - 7)\n",
    "dg = lambda x: 2*x - 1/((x - 7)**2)"
   ]
  },
  {
   "cell_type": "code",
   "execution_count": null,
   "id": "cc36ad94",
   "metadata": {},
   "outputs": [],
   "source": [
    "tol = 1e-8  "
   ]
  },
  {
   "cell_type": "code",
   "execution_count": 45,
   "id": "a6155bf7",
   "metadata": {},
   "outputs": [
    {
     "name": "stdout",
     "output_type": "stream",
     "text": [
      "Raíces de g(x) = x^2 + 1/(x - 7):\n",
      "\n",
      "Raíz 1: 6.9794716090\n",
      "Raíz 2: 0.3889232447\n",
      "Raíz 3: -0.3683948537\n"
     ]
    }
   ],
   "source": [
    "coeffs = [1, -7, 0, 1]\n",
    "\n",
    "roots = np.roots(coeffs)\n",
    "\n",
    "print(\"Raíces de g(x) = x^2 + 1/(x - 7):\\n\")\n",
    "for i, r in enumerate(roots, start=1):\n",
    "    if np.isreal(r):\n",
    "        print(f\"Raíz {i}: {r.real:.10f}\")\n",
    "    else:\n",
    "        print(f\"Raíz {i} (compleja): {r}\")"
   ]
  },
  {
   "cell_type": "code",
   "execution_count": null,
   "id": "97c5f570",
   "metadata": {},
   "outputs": [],
   "source": [
    "b1_approxs, b1_root = find_root(\"bisection\", g, a=-0.37, b=-0.36, tol=tol)\n",
    "s1_approxs, s1_root = find_root(\"secant\", g, x0=-0.37, x1=-0.36, tol=tol)\n",
    "n1_approxs, n1_root = find_root(\"newton\", g, df=dg, x0=-0.368, tol=tol)\n",
    "\n",
    "b2_approxs, b2_root = find_root(\"bisection\", g, a=0.388, b=0.389, tol=tol)\n",
    "s2_approxs, s2_root = find_root(\"secant\", g, x0=0.388, x1=0.389, tol=tol)\n",
    "n2_approxs, n2_root = find_root(\"newton\", g, df=dg, x0=0.389, tol=tol)\n",
    "\n",
    "b3_approxs, b3_root = find_root(\"bisection\", g, a=6.978, b=6.980, tol=tol)\n",
    "s3_approxs, s3_root = find_root(\"secant\", g, x0=6.978, x1=6.980, tol=tol)\n",
    "n3_approxs, n3_root = find_root(\"newton\", g, df=dg, x0=6.979, tol=tol)"
   ]
  },
  {
   "cell_type": "code",
   "execution_count": 47,
   "id": "9b041ad3",
   "metadata": {},
   "outputs": [
    {
     "name": "stdout",
     "output_type": "stream",
     "text": [
      "Raíz 1 (≈ 6.979471609):\n",
      "  Bisección      : 6.9794716110 | error: 2.02e-09 | iteraciones: 18\n",
      "  Secante        : 6.9794716090 | error: 4.64e-11 | iteraciones: 6\n",
      "  Newton-Raphson : 6.9794716090 | error: 4.65e-11 | iteraciones: 4\n",
      "\n",
      "Raíz 2 (≈ 0.3889232447):\n",
      "  Bisección      : 0.3889232483 | error: 3.59e-09 | iteraciones: 15\n",
      "  Secante        : 0.3889232447 | error: 2.30e-11 | iteraciones: 4\n",
      "  Newton-Raphson : 0.3889232525 | error: 7.76e-09 | iteraciones: 2\n",
      "\n",
      "Raíz 3 (≈ -0.3683948537):\n",
      "  Bisección      : -0.3683948517 | error: 2.02e-09 | iteraciones: 17\n",
      "  Secante        : -0.3683948537 | error: 2.82e-11 | iteraciones: 5\n",
      "  Newton-Raphson : -0.3683948537 | error: 3.30e-11 | iteraciones: 3\n"
     ]
    }
   ],
   "source": [
    "r1_exact = 6.9794716090  # raíz 1\n",
    "r2_exact = 0.3889232447  # raíz 2\n",
    "r3_exact = -0.3683948537 # raíz 3\n",
    "\n",
    "print(f\"Raíz 1 (≈ {r1_exact}):\")\n",
    "print(f\"  Bisección      : {b3_root:.10f} | error: {abs(b3_root - r1_exact):.2e} | iteraciones: {len(b3_approxs)}\")\n",
    "print(f\"  Secante        : {s3_root:.10f} | error: {abs(s3_root - r1_exact):.2e} | iteraciones: {len(s3_approxs)}\")\n",
    "print(f\"  Newton-Raphson : {n3_root:.10f} | error: {abs(n3_root - r1_exact):.2e} | iteraciones: {len(n3_approxs)}\\n\")\n",
    "\n",
    "print(f\"Raíz 2 (≈ {r2_exact}):\")\n",
    "print(f\"  Bisección      : {b2_root:.10f} | error: {abs(b2_root - r2_exact):.2e} | iteraciones: {len(b2_approxs)}\")\n",
    "print(f\"  Secante        : {s2_root:.10f} | error: {abs(s2_root - r2_exact):.2e} | iteraciones: {len(s2_approxs)}\")\n",
    "print(f\"  Newton-Raphson : {n2_root:.10f} | error: {abs(n2_root - r2_exact):.2e} | iteraciones: {len(n2_approxs)}\\n\")\n",
    "\n",
    "print(f\"Raíz 3 (≈ {r3_exact}):\")\n",
    "print(f\"  Bisección      : {b1_root:.10f} | error: {abs(b1_root - r3_exact):.2e} | iteraciones: {len(b1_approxs)}\")\n",
    "print(f\"  Secante        : {s1_root:.10f} | error: {abs(s1_root - r3_exact):.2e} | iteraciones: {len(s1_approxs)}\")\n",
    "print(f\"  Newton-Raphson : {n1_root:.10f} | error: {abs(n1_root - r3_exact):.2e} | iteraciones: {len(n1_approxs)}\")"
   ]
  },
  {
   "cell_type": "markdown",
   "id": "7be29ded",
   "metadata": {},
   "source": [
    "### Problema 06"
   ]
  },
  {
   "cell_type": "code",
   "execution_count": 48,
   "id": "177b19b4",
   "metadata": {},
   "outputs": [],
   "source": [
    "import numpy as np\n",
    "import matplotlib.pyplot as plt"
   ]
  },
  {
   "cell_type": "code",
   "execution_count": 49,
   "id": "332afdd8",
   "metadata": {},
   "outputs": [],
   "source": [
    "f  = lambda x: 2*x**5 + 3*x**4 - 3*x**3 - 10*x**2 - 4*x + 4\n",
    "df = lambda x: 10*x**4 + 12*x**3 - 9*x**2 - 20*x - 4"
   ]
  },
  {
   "cell_type": "code",
   "execution_count": 51,
   "id": "924f8d4d",
   "metadata": {},
   "outputs": [],
   "source": [
    "tol = 1e-8"
   ]
  },
  {
   "cell_type": "code",
   "execution_count": 52,
   "id": "6841675a",
   "metadata": {},
   "outputs": [
    {
     "name": "stdout",
     "output_type": "stream",
     "text": [
      "Raíces reales aproximadas:\n",
      "Raíz 1: 1.5937398740\n",
      "Raíz 2: -1.3037028112\n",
      "Raíz 3: 0.4546075602\n"
     ]
    }
   ],
   "source": [
    "coeffs = [2, 3, -3, -10, -4, 4]\n",
    "roots = np.roots(coeffs)\n",
    "\n",
    "# Mostrar raíces reales con alta precisión\n",
    "real_roots = [r.real for r in roots if np.isreal(r)]\n",
    "print(\"Raíces reales aproximadas:\")\n",
    "for i, r in enumerate(real_roots, start=1):\n",
    "    print(f\"Raíz {i}: {r:.10f}\")"
   ]
  },
  {
   "cell_type": "code",
   "execution_count": 53,
   "id": "c0e69473",
   "metadata": {},
   "outputs": [],
   "source": [
    "# Raíz cerca de -1.3\n",
    "b1_approxs, b1_root = find_root(\"bisection\", f, a=-1.4, b=-1.2, tol=tol)\n",
    "s1_approxs, s1_root = find_root(\"secant\", f, x0=-1.4, x1=-1.2, tol=tol)\n",
    "n1_approxs, n1_root = find_root(\"newton\", f, df=df, x0=-1.3, tol=tol)\n",
    "\n",
    "# Raíz cerca de 0.45\n",
    "b2_approxs, b2_root = find_root(\"bisection\", f, a=0.4, b=0.5, tol=tol)\n",
    "s2_approxs, s2_root = find_root(\"secant\", f, x0=0.4, x1=0.5, tol=tol)\n",
    "n2_approxs, n2_root = find_root(\"newton\", f, df=df, x0=0.45, tol=tol)\n",
    "\n",
    "# Raíz cerca de 1.59\n",
    "b3_approxs, b3_root = find_root(\"bisection\", f, a=1.5, b=1.7, tol=tol)\n",
    "s3_approxs, s3_root = find_root(\"secant\", f, x0=1.5, x1=1.7, tol=tol)\n",
    "n3_approxs, n3_root = find_root(\"newton\", f, df=df, x0=1.6, tol=tol)"
   ]
  },
  {
   "cell_type": "code",
   "execution_count": 54,
   "id": "36b7cb9e",
   "metadata": {},
   "outputs": [],
   "source": [
    "r1_exact = -1.3037028112\n",
    "r2_exact =  0.4546075602\n",
    "r3_exact =  1.5937398740"
   ]
  },
  {
   "cell_type": "code",
   "execution_count": 55,
   "id": "a8999b7d",
   "metadata": {},
   "outputs": [
    {
     "name": "stdout",
     "output_type": "stream",
     "text": [
      "Raíz 1 (≈ -1.3037028112):\n",
      "  Bisección      : -1.3037028134 | error: 2.19e-09 | iter: 25\n",
      "  Secante        : -1.3037028112 | error: 4.69e-11 | iter: 7\n",
      "  Newton-Raphson : -1.3037028117 | error: 4.78e-10 | iter: 3\n",
      "\n",
      "Raíz 2 (≈ 0.4546075602):\n",
      "  Bisección      : 0.4546075642 | error: 4.01e-09 | iter: 24\n",
      "  Secante        : 0.4546075602 | error: 1.35e-11 | iter: 6\n",
      "  Newton-Raphson : 0.4546075603 | error: 1.05e-10 | iter: 3\n",
      "\n",
      "Raíz 3 (≈ 1.593739874):\n",
      "  Bisección      : 1.5937398732 | error: 8.29e-10 | iter: 25\n",
      "  Secante        : 1.5937398738 | error: 1.79e-10 | iter: 7\n",
      "  Newton-Raphson : 1.5937398740 | error: 2.06e-11 | iter: 4\n"
     ]
    }
   ],
   "source": [
    "print(f\"Raíz 1 (≈ {r1_exact}):\")\n",
    "print(f\"  Bisección      : {b1_root:.10f} | error: {abs(b1_root - r1_exact):.2e} | iter: {len(b1_approxs)}\")\n",
    "print(f\"  Secante        : {s1_root:.10f} | error: {abs(s1_root - r1_exact):.2e} | iter: {len(s1_approxs)}\")\n",
    "print(f\"  Newton-Raphson : {n1_root:.10f} | error: {abs(n1_root - r1_exact):.2e} | iter: {len(n1_approxs)}\\n\")\n",
    "\n",
    "print(f\"Raíz 2 (≈ {r2_exact}):\")\n",
    "print(f\"  Bisección      : {b2_root:.10f} | error: {abs(b2_root - r2_exact):.2e} | iter: {len(b2_approxs)}\")\n",
    "print(f\"  Secante        : {s2_root:.10f} | error: {abs(s2_root - r2_exact):.2e} | iter: {len(s2_approxs)}\")\n",
    "print(f\"  Newton-Raphson : {n2_root:.10f} | error: {abs(n2_root - r2_exact):.2e} | iter: {len(n2_approxs)}\\n\")\n",
    "\n",
    "print(f\"Raíz 3 (≈ {r3_exact}):\")\n",
    "print(f\"  Bisección      : {b3_root:.10f} | error: {abs(b3_root - r3_exact):.2e} | iter: {len(b3_approxs)}\")\n",
    "print(f\"  Secante        : {s3_root:.10f} | error: {abs(s3_root - r3_exact):.2e} | iter: {len(s3_approxs)}\")\n",
    "print(f\"  Newton-Raphson : {n3_root:.10f} | error: {abs(n3_root - r3_exact):.2e} | iter: {len(n3_approxs)}\")"
   ]
  }
 ],
 "metadata": {
  "kernelspec": {
   "display_name": "Python 3",
   "language": "python",
   "name": "python3"
  },
  "language_info": {
   "codemirror_mode": {
    "name": "ipython",
    "version": 3
   },
   "file_extension": ".py",
   "mimetype": "text/x-python",
   "name": "python",
   "nbconvert_exporter": "python",
   "pygments_lexer": "ipython3",
   "version": "3.10.2"
  }
 },
 "nbformat": 4,
 "nbformat_minor": 5
}
