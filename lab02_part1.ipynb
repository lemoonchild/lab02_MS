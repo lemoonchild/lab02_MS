{
 "cells": [
  {
   "cell_type": "markdown",
   "id": "16139822",
   "metadata": {},
   "source": [
    "## Problema #3"
   ]
  },
  {
   "cell_type": "markdown",
   "id": "48d128e4",
   "metadata": {},
   "source": [
    "### Formulación del Modelo"
   ]
  },
  {
   "cell_type": "markdown",
   "id": "6706f8b0",
   "metadata": {},
   "source": [
    "* Índices\n",
    "\n",
    "$$\n",
    "i = 1,2,3,4\\quad (\\text{trabajadores}), \n",
    "\\quad j = 1,2,3,4\\quad (\\text{puestos}).\n",
    "$$\n",
    "\n",
    "* Parámetros\n",
    "\n",
    "$$\n",
    "c_{ij} = \n",
    "\\begin{pmatrix}\n",
    "50 & 50 & - & 20\\\\\n",
    "70 & 40 & 20 & 30\\\\\n",
    "90 & 30 & 50 & -\\\\\n",
    "70 & 20 & 60 & 70\n",
    "\\end{pmatrix},\n",
    "$$\n",
    "\n",
    "donde $c_{1,3}=+\\infty$ (trabajador 1 no puede ir al puesto 3) y\n",
    "$c_{3,4}=+\\infty$ (trabajador 3 no puede ir al puesto 4).\n",
    "\n",
    "* Variables de decisión\n",
    "\n",
    "$$\n",
    "x_{ij} =\n",
    "\\begin{cases}\n",
    "1 & \\text{si al trabajador }i\\text{ se le asigna el puesto }j,\\\\\n",
    "0 & \\text{en otro caso.}\n",
    "\\end{cases}\n",
    "$$\n",
    "\n",
    "* Función objetivo (minimizar coste total)\n",
    "\n",
    "$$\n",
    "\\min \\sum_{i=1}^4\\sum_{j=1}^4 c_{ij}\\,x_{ij}.\n",
    "$$\n",
    "\n",
    "* Restricciones\n",
    "\n",
    "1. Cada trabajador hace exactamente un puesto:\n",
    "   $\\displaystyle\\sum_{j=1}^4 x_{ij} = 1\\quad \\forall\\,i=1,\\dots,4.$\n",
    "2. Cada puesto es cubierto por exactamente un trabajador:\n",
    "   $\\displaystyle\\sum_{i=1}^4 x_{ij} = 1\\quad \\forall\\,j=1,\\dots,4.$\n",
    "3. $x_{ij}\\in\\{0,1\\}$.\n",
    "\n",
    "---"
   ]
  },
  {
   "cell_type": "markdown",
   "id": "8e5f86bf",
   "metadata": {},
   "source": [
    "### Solución"
   ]
  },
  {
   "cell_type": "code",
   "execution_count": 1,
   "id": "b0632cdc",
   "metadata": {},
   "outputs": [],
   "source": [
    "import JuMP\n",
    "import HiGHS\n",
    "import Ipopt\n",
    "import Optimization\n",
    "\n",
    "using JuMP\n",
    "using HiGHS\n",
    "using Ipopt\n",
    "using Optimization"
   ]
  },
  {
   "cell_type": "code",
   "execution_count": 10,
   "id": "ca888cc7",
   "metadata": {},
   "outputs": [
    {
     "data": {
      "text/plain": [
       "4×4 Matrix{Float64}:\n",
       " 50.0  50.0   1.0e6  20.0\n",
       " 70.0  40.0  20.0    30.0\n",
       " 90.0  30.0  50.0     1.0e6\n",
       " 70.0  20.0  60.0    70.0"
      ]
     },
     "metadata": {},
     "output_type": "display_data"
    }
   ],
   "source": [
    "# Costos\n",
    "costs_p3 = [\n",
    "    50 50 1e6 20;\n",
    "    70 40 20 30;\n",
    "    90 30 50 1e6;\n",
    "    70 20 60 70\n",
    "]"
   ]
  },
  {
   "cell_type": "code",
   "execution_count": 12,
   "id": "e33a400c",
   "metadata": {},
   "outputs": [
    {
     "data": {
      "text/plain": [
       "4-element Vector{ConstraintRef{Model, MathOptInterface.ConstraintIndex{MathOptInterface.ScalarAffineFunction{Float64}, MathOptInterface.EqualTo{Float64}}, ScalarShape}}:\n",
       " x[1,1] + x[2,1] + x[3,1] + x[4,1] == 1\n",
       " x[1,2] + x[2,2] + x[3,2] + x[4,2] == 1\n",
       " x[1,3] + x[2,3] + x[3,3] + x[4,3] == 1\n",
       " x[1,4] + x[2,4] + x[3,4] + x[4,4] == 1"
      ]
     },
     "metadata": {},
     "output_type": "display_data"
    }
   ],
   "source": [
    "# Modelo\n",
    "model = Model(HiGHS.Optimizer)\n",
    "\n",
    "# Variables \n",
    "@variable(model, x[1:4, 1:4], Bin)\n",
    "\n",
    "# Objetivo\n",
    "@objective(model, Min, sum(costs_p3[i, j] * x[i, j] for i in 1:4, j in 1:4))\n",
    "\n",
    "# Restricciones\n",
    "\n",
    "# Cada trabajador i asignado a un único puesto\n",
    "@constraint(model,  [i in 1:4], sum(x[i, j] for j in 1:4) == 1)\n",
    "\n",
    "# Cada puesto j ocupado por un único trabajador\n",
    "@constraint(model,  [j in 1:4], sum(x[i, j] for i in 1:4) == 1)"
   ]
  },
  {
   "cell_type": "code",
   "execution_count": 13,
   "id": "fc35c2ad",
   "metadata": {},
   "outputs": [
    {
     "name": "stdout",
     "output_type": "stream",
     "text": [
      "Running HiGHS 1.11.0 (git hash: 364c83a51e): Copyright (c) 2025 HiGHS under MIT licence terms\n",
      "MIP  has 8 rows; 16 cols; 32 nonzeros; 16 integer variables (16 binary)\n",
      "Coefficient ranges:\n",
      "  Matrix [1e+00, 1e+00]\n",
      "  Cost   [2e+01, 1e+06]\n",
      "  Bound  [1e+00, 1e+00]\n",
      "  RHS    [1e+00, 1e+00]\n",
      "Presolving model\n",
      "8 rows, 16 cols, 32 nonzeros  0s\n",
      "8 rows, 16 cols, 32 nonzeros  0s\n",
      "Objective function is integral with scale 0.1\n",
      "\n",
      "Solving MIP model with:\n",
      "   8 rows\n",
      "   16 cols (16 binary, 0 integer, 0 implied int., 0 continuous, 0 domain fixed)\n",
      "   32 nonzeros\n",
      "\n",
      "Src: B => Branching; C => Central rounding; F => Feasibility pump; J => Feasibility jump;\n",
      "     H => Heuristic; L => Sub-MIP; P => Empty MIP; R => Randomized rounding; Z => ZI Round;\n",
      "     I => Shifting; S => Solve LP; T => Evaluate node; U => Unbounded; X => User solution;\n",
      "     z => Trivial zero; l => Trivial lower; u => Trivial upper; p => Trivial point\n",
      "\n",
      "        Nodes      |    B&B Tree     |            Objective Bounds              |  Dynamic Constraints |       Work      \n",
      "Src  Proc. InQueue |  Leaves   Expl. | BestBound       BestSol              Gap |   Cuts   InLp Confl. | LpIters     Time\n",
      "\n",
      " J       0       0         0   0.00%   -inf            1000200            Large        0      0      0         0     0.0s\n",
      " T       0       0         0   0.00%   0               140              100.00%        0      0      0         7     0.0s\n",
      "         1       0         1 100.00%   140             140                0.00%        0      0      0         7     0.0s\n",
      "\n",
      "Solving report\n",
      "  Status            Optimal\n",
      "  Primal bound      140\n",
      "  Dual bound        140\n",
      "  Gap               0% (tolerance: 0.01%)\n",
      "  P-D integral      0.00291299819946\n",
      "  Solution status   feasible\n",
      "                    140 (objective)\n",
      "                    0 (bound viol.)\n",
      "                    0 (int. viol.)\n",
      "                    0 (row viol.)\n",
      "  Timing            0.02 (total)\n",
      "                    0.00 (presolve)\n",
      "                    0.00 (solve)\n",
      "                    0.00 (postsolve)\n",
      "  Max sub-MIP depth 0\n",
      "  Nodes             1\n",
      "  Repair LPs        0 (0 feasible; 0 iterations)\n",
      "  LP iterations     7 (total)\n",
      "                    0 (strong br.)\n",
      "                    0 (separation)\n",
      "                    0 (heuristics)\n"
     ]
    }
   ],
   "source": [
    "# Resolver\n",
    "optimize!(model)"
   ]
  },
  {
   "cell_type": "code",
   "execution_count": 14,
   "id": "099df08d",
   "metadata": {},
   "outputs": [
    {
     "name": "stdout",
     "output_type": "stream",
     "text": [
      "Coste óptimo: $140.0\n",
      "Trabajador 1 -> Puesto 4 (coste=20.0)\n",
      "Trabajador 2 -> Puesto 3 (coste=20.0)\n",
      "Trabajador 3 -> Puesto 2 (coste=30.0)\n",
      "Trabajador 4 -> Puesto 1 (coste=70.0)\n"
     ]
    }
   ],
   "source": [
    "# Resultados\n",
    "println(\"Coste óptimo: \\$\", objective_value(model))\n",
    "for i in 1:4, j in 1:4\n",
    "    if value(x[i, j]) > 0.5\n",
    "        println(\"Trabajador $i -> Puesto $j (coste=\", costs_p3[i, j], \")\")\n",
    "    end\n",
    "end"
   ]
  }
 ],
 "metadata": {
  "kernelspec": {
   "display_name": "Julia 1.11.6",
   "language": "julia",
   "name": "julia-1.11"
  },
  "language_info": {
   "file_extension": ".jl",
   "mimetype": "application/julia",
   "name": "julia",
   "version": "1.11.6"
  }
 },
 "nbformat": 4,
 "nbformat_minor": 5
}
