{
 "cells": [
  {
   "cell_type": "markdown",
   "id": "962aa00c",
   "metadata": {},
   "source": [
    "## Problemas de Transporte"
   ]
  },
  {
   "cell_type": "markdown",
   "id": "07ec1ac5",
   "metadata": {},
   "source": [
    "### Problema #1"
   ]
  },
  {
   "cell_type": "markdown",
   "id": "13622659",
   "metadata": {},
   "source": [
    "### Formulación del problema\n",
    "\n",
    "#### Variables de decisión:\n",
    "\n",
    "Sea x_ij la cantidad de **millones de galones** que se envían desde la **refinería \\( i \\)** al **área de distribución \\( j \\)**, con:\n",
    "\n",
    "$$\n",
    "( i \\in \\{1, 2, 3\\} )  (Refinerías)\n",
    "$$\n",
    "$$\n",
    "( j \\in \\{1, 2, 3\\} )  (Áreas de distribución)\n",
    "$$\n",
    "\n",
    "#### Parámetros:\n",
    "\n",
    "**Oferta de gasolina diaria (millones de galones):**\n",
    "- Refinería 1: s_1 = 6 \n",
    "- Refinería 2: s_2 = 5 \n",
    "- Refinería 3: s_3 = 8 \n",
    "\n",
    "**Demanda diaria por área (millones de galones):**\n",
    "- Área 1: d_1 = 4 \n",
    "- Área 2: d_2 = 8 \n",
    "- Área 3: d_3 = 7\n",
    "\n",
    "**Distancia entre refinerías y áreas (en km):**\n",
    "\n",
    "|              | Área 1 | Área 2 | Área 3 |\n",
    "|--------------|--------|--------|--------|\n",
    "| Refinería 1  | 120    | 180    | —      |\n",
    "| Refinería 2  | 300    | 100    | 80     |\n",
    "| Refinería 3  | 200    | 250    | 120    |\n",
    "\n",
    "**Costo de transporte (USD por millón de galones):**\n",
    "\n",
    "El costo de transporte es **$0.10** por cada 1000 galones por km, es decir:\n",
    "\n",
    "$$\n",
    "\\text{Costo}_{ij} = 0.10 \\times \\text{Distancia}_{ij}\n",
    "$$\n",
    "\n",
    "Entonces la matriz de costos c_ij queda:\n",
    "\n",
    "|              | Área 1 | Área 2 | Área 3 |\n",
    "|--------------|--------|--------|--------|\n",
    "| Refinería 1  | 12     | 18     | —      |\n",
    "| Refinería 2  | 30     | 10     | 8      |\n",
    "| Refinería 3  | 20     | 25     | 12     |\n",
    "\n",
    "\n",
    "#### Función Objetivo:\n",
    "\n",
    "Minimizar el costo total de transporte:\n",
    "\n",
    "$$\n",
    "\\min Z = \\sum_{i=1}^{3} \\sum_{j=1}^{3} c_{ij} \\cdot x_{ij}\n",
    "$$\n",
    "\n",
    "(sin incluir rutas prohibidas, como x_13.)\n",
    "\n",
    "\n",
    "#### Restricciones:\n",
    "\n",
    "**Oferta por refinería:**\n",
    "\n",
    "$$\n",
    "\\begin{aligned}\n",
    "x_{11} + x_{12} &\\leq 6 \\quad \\text{(Refinería 1)} \\\\\n",
    "x_{21} + x_{22} + x_{23} &\\leq 5 \\quad \\text{(Refinería 2)} \\\\\n",
    "x_{31} + x_{32} + x_{33} &\\leq 8 \\quad \\text{(Refinería 3)} \\\\\n",
    "\\end{aligned}\n",
    "$$\n",
    "\n",
    "**Demanda por área de distribución:**\n",
    "\n",
    "$$\n",
    "\\begin{aligned}\n",
    "x_{11} + x_{21} + x_{31} &= 4 \\quad \\text{(Área 1)} \\\\\n",
    "x_{12} + x_{22} + x_{32} &= 8 \\quad \\text{(Área 2)} \\\\\n",
    "x_{23} + x_{33} &= 7 \\quad \\text{(Área 3)} \\\\\n",
    "\\end{aligned}\n",
    "$$\n",
    "\n",
    "**Restricciones de no negatividad:**\n",
    "\n",
    "$$\n",
    "x_{ij} \\geq 0 \\quad \\forall i,j\n",
    "$$\n",
    "\n",
    "**Restricción de conectividad:**\n",
    "\n",
    "$$\n",
    "x_{13} = 0 \\quad \\text{(Refinería 1 no puede enviar a Área 3)}\n",
    "$$"
   ]
  },
  {
   "cell_type": "markdown",
   "id": "761f8c7e",
   "metadata": {},
   "source": [
    "### Solución"
   ]
  },
  {
   "cell_type": "code",
   "execution_count": 11,
   "id": "73c37d33",
   "metadata": {},
   "outputs": [],
   "source": [
    "using JuMP\n",
    "using Ipopt \n",
    "using HiGHS \n",
    "using Optimization"
   ]
  },
  {
   "cell_type": "code",
   "execution_count": 12,
   "id": "066b6143",
   "metadata": {},
   "outputs": [
    {
     "data": {
      "text/plain": [
       "A JuMP Model\n",
       "├ solver: none\n",
       "├ objective_sense: FEASIBILITY_SENSE\n",
       "├ num_variables: 0\n",
       "├ num_constraints: 0\n",
       "└ Names registered in the model: none"
      ]
     },
     "metadata": {},
     "output_type": "display_data"
    }
   ],
   "source": [
    "model = Model()"
   ]
  },
  {
   "cell_type": "code",
   "execution_count": 14,
   "id": "6fa116ac",
   "metadata": {},
   "outputs": [
    {
     "data": {
      "text/plain": [
       "3×3 Matrix{Float64}:\n",
       " 12.0  18.0   1.0e6\n",
       " 30.0  10.0   8.0\n",
       " 20.0  25.0  12.0"
      ]
     },
     "metadata": {},
     "output_type": "display_data"
    }
   ],
   "source": [
    "# Refinerías (oferta)\n",
    "supply = [6.0, 5.0, 8.0]  # millones de galones\n",
    "\n",
    "# Áreas de distribución (demanda)\n",
    "demand = [4.0, 8.0, 7.0]  # millones de galones\n",
    "\n",
    "# Costos de transporte en USD por millón de galones\n",
    "costos = [\n",
    "    12.0  18.0   1e6;    # Refinería 1 \n",
    "    30.0  10.0   8.0;    # Refinería 2\n",
    "    20.0  25.0  12.0     # Refinería 3\n",
    "]"
   ]
  },
  {
   "cell_type": "code",
   "execution_count": 15,
   "id": "53fc4ed6",
   "metadata": {},
   "outputs": [
    {
     "data": {
      "text/latex": [
       "$ 12 x_{1,1} + 18 x_{1,2} + 1000000 x_{1,3} + 30 x_{2,1} + 10 x_{2,2} + 8 x_{2,3} + 20 x_{3,1} + 25 x_{3,2} + 12 x_{3,3} $"
      ],
      "text/plain": [
       "12 x[1,1] + 18 x[1,2] + 1000000 x[1,3] + 30 x[2,1] + 10 x[2,2] + 8 x[2,3] + 20 x[3,1] + 25 x[3,2] + 12 x[3,3]"
      ]
     },
     "metadata": {},
     "output_type": "display_data"
    }
   ],
   "source": [
    "# variables de decisión\n",
    "@variable(model, x[1:3, 1:3] >= 0)  # x[i,j] = cantidad enviada de refinería i a área j\n",
    "\n",
    "# restricciones de oferta\n",
    "for i in 1:3\n",
    "    @constraint(model, sum(x[i, j] for j in 1:3) <= supply[i])\n",
    "end\n",
    "\n",
    "# restricciones de demanda\n",
    "for j in 1:3\n",
    "    @constraint(model, sum(x[i, j] for i in 1:3) == demand[j])\n",
    "end\n",
    "\n",
    "# función objetivo: minimizar el costo total de transporte\n",
    "@objective(model, Min, sum(costos[i,j] * x[i,j] for i in 1:3, j in 1:3))\n"
   ]
  },
  {
   "cell_type": "code",
   "execution_count": 17,
   "id": "547a3491",
   "metadata": {},
   "outputs": [],
   "source": [
    "set_optimizer(model, HiGHS.Optimizer)"
   ]
  },
  {
   "cell_type": "code",
   "execution_count": 18,
   "id": "ad9b38c2",
   "metadata": {},
   "outputs": [
    {
     "name": "stdout",
     "output_type": "stream",
     "text": [
      "Running HiGHS 1.11.0 (git hash: 364c83a51e): Copyright (c) 2025 HiGHS under MIT licence terms\n",
      "LP   has 6 rows; 9 cols; 18 nonzeros\n",
      "Coefficient ranges:\n",
      "  Matrix [1e+00, 1e+00]\n",
      "  Cost   [8e+00, 1e+06]\n",
      "  Bound  [0e+00, 0e+00]\n",
      "  RHS    [4e+00, 8e+00]\n",
      "Presolving model\n",
      "6 rows, 9 cols, 18 nonzeros  0s\n",
      "Dependent equations search running on 3 equations with time limit of 1000.00s\n",
      "Dependent equations search removed 0 rows and 0 nonzeros in 0.00s (limit = 1000.00s)\n",
      "6 rows, 9 cols, 18 nonzeros  0s\n",
      "Presolve : Reductions: rows 6(-0); columns 9(-0); elements 18(-0) - Not reduced\n",
      "Problem not reduced by presolve: solving the LP\n",
      "Using EKK dual simplex solver - serial\n",
      "  Iteration        Objective     Infeasibilities num(sum)\n",
      "          0     0.0000000000e+00 Pr: 3(19) 0s\n",
      "          6     2.4300000000e+02 Pr: 0(0) 0s\n",
      "Model status        : Optimal\n",
      "Simplex   iterations: 6\n",
      "Objective value     :  2.4300000000e+02\n",
      "P-D objective error :  0.0000000000e+00\n",
      "HiGHS run time      :          0.01\n"
     ]
    }
   ],
   "source": [
    "optimize!(model)"
   ]
  },
  {
   "cell_type": "code",
   "execution_count": 19,
   "id": "c618e24a",
   "metadata": {},
   "outputs": [
    {
     "name": "stdout",
     "output_type": "stream",
     "text": [
      "Solución óptima:\n",
      "x[1,1] = 4.0\n",
      "x[1,2] = 2.0\n",
      "x[1,3] = 0.0\n",
      "x[2,1] = 0.0\n",
      "x[2,2] = 5.0\n",
      "x[2,3] = 0.0\n",
      "x[3,1] = 0.0\n",
      "x[3,2] = 1.0\n",
      "x[3,3] = 7.0\n",
      "Costo total mínimo: $243.0\n"
     ]
    }
   ],
   "source": [
    "println(\"Solución óptima:\")\n",
    "for i in 1:3, j in 1:3\n",
    "    println(\"x[$i,$j] = \", value(x[i,j]))\n",
    "end\n",
    "\n",
    "println(\"Costo total mínimo: \\$\", objective_value(model))"
   ]
  },
  {
   "cell_type": "markdown",
   "id": "04544823",
   "metadata": {},
   "source": [
    "<small>\n",
    "\n",
    "### Análisis de Resultados \n",
    "\n",
    "Luego de resolver el modelo de transporte con JuMP, se obtuvo la siguiente solución óptima:\n",
    "\n",
    "#### Distribución óptima de envíos (en millones de galones):\n",
    "\n",
    "| Refinería → Área | Envío |\n",
    "|------------------|--------|\n",
    "| Refinería 1 → Área 1 | 4.0 |\n",
    "| Refinería 1 → Área 2 | 2.0 |\n",
    "| Refinería 2 → Área 2 | 5.0 |\n",
    "| Refinería 3 → Área 2 | 1.0 |\n",
    "| Refinería 3 → Área 3 | 7.0 |\n",
    "\n",
    "\n",
    "- Todas las demás variables tienen valor 0, incluyendo la ruta prohibida (Refinería 1 → Área 3).\n",
    "\n",
    "#### Verificación de restricciones:\n",
    "\n",
    "- **Oferta utilizada:**\n",
    "  - Refinería 1: 4 + 2 = 6 ≤ 6 \n",
    "  - Refinería 2: 5 ≤ 5 \n",
    "  - Refinería 3: 1 + 7 = 8 ≤ 8 \n",
    "\n",
    "- **Demanda satisfecha:**\n",
    "  - Área 1: 4 \n",
    "  - Área 2: 2 + 5 + 1 = 8 \n",
    "  - Área 3: 7 \n",
    "\n",
    "**El modelo cumple con todas las restricciones de capacidad y demanda.**\n",
    "\n",
    "\n",
    "### Costo total mínimo:\n",
    "\n",
    "$$\n",
    "Z = (4 \\cdot 12) + (2 \\cdot 18) + (5 \\cdot 10) + (1 \\cdot 25) + (7 \\cdot 12) = \\$243\n",
    "$$\n",
    "\n",
    "\n",
    "### Observaciones:\n",
    "\n",
    "- La Refinería 1 cubre completamente el Área 1 y parcialmente el Área 2.\n",
    "- La Refinería 2 solo contribuye al Área 2, usando toda su capacidad.\n",
    "- La Refinería 3 se encarga completamente del Área 3 y apoya al Área 2 con 1 millón.\n",
    "- No se usa la ruta Refinería 1 → Área 3 debido a su **costo prohibitivo**.\n",
    "- Se respetaron los límites de capacidad y se cumplió exactamente la demanda de cada área.\n",
    "\n",
    "\n",
    "**Conclusión:**  \n",
    "La solución es óptima, económica **$243** \n",
    "y cumple con todas las condiciones del problema de transporte balanceado $$ \\sum \\text{oferta} = \\sum \\text{demanda} $$\n",
    "\n",
    "</small>"
   ]
  },
  {
   "cell_type": "markdown",
   "id": "16139822",
   "metadata": {},
   "source": [
    "### Problema #3"
   ]
  },
  {
   "cell_type": "markdown",
   "id": "48d128e4",
   "metadata": {},
   "source": [
    "### Formulación del Modelo"
   ]
  },
  {
   "cell_type": "markdown",
   "id": "6706f8b0",
   "metadata": {},
   "source": [
    "* Índices\n",
    "\n",
    "$$\n",
    "i = 1,2,3,4\\quad (\\text{trabajadores}), \n",
    "\\quad j = 1,2,3,4\\quad (\\text{puestos}).\n",
    "$$\n",
    "\n",
    "* Parámetros\n",
    "\n",
    "$$\n",
    "c_{ij} = \n",
    "\\begin{pmatrix}\n",
    "50 & 50 & - & 20\\\\\n",
    "70 & 40 & 20 & 30\\\\\n",
    "90 & 30 & 50 & -\\\\\n",
    "70 & 20 & 60 & 70\n",
    "\\end{pmatrix},\n",
    "$$\n",
    "\n",
    "donde $c_{1,3}=+\\infty$ (trabajador 1 no puede ir al puesto 3) y\n",
    "$c_{3,4}=+\\infty$ (trabajador 3 no puede ir al puesto 4).\n",
    "\n",
    "* Variables de decisión\n",
    "\n",
    "$$\n",
    "x_{ij} =\n",
    "\\begin{cases}\n",
    "1 & \\text{si al trabajador }i\\text{ se le asigna el puesto }j,\\\\\n",
    "0 & \\text{en otro caso.}\n",
    "\\end{cases}\n",
    "$$\n",
    "\n",
    "* Función objetivo (minimizar coste total)\n",
    "\n",
    "$$\n",
    "\\min \\sum_{i=1}^4\\sum_{j=1}^4 c_{ij}\\,x_{ij}.\n",
    "$$\n",
    "\n",
    "* Restricciones\n",
    "\n",
    "1. Cada trabajador hace exactamente un puesto:\n",
    "   $\\displaystyle\\sum_{j=1}^4 x_{ij} = 1\\quad \\forall\\,i=1,\\dots,4.$\n",
    "2. Cada puesto es cubierto por exactamente un trabajador:\n",
    "   $\\displaystyle\\sum_{i=1}^4 x_{ij} = 1\\quad \\forall\\,j=1,\\dots,4.$\n",
    "3. $x_{ij}\\in\\{0,1\\}$.\n",
    "\n",
    "---"
   ]
  },
  {
   "cell_type": "markdown",
   "id": "8e5f86bf",
   "metadata": {},
   "source": [
    "### Solución"
   ]
  },
  {
   "cell_type": "code",
   "execution_count": null,
   "id": "b0632cdc",
   "metadata": {},
   "outputs": [],
   "source": [
    "import JuMP\n",
    "import HiGHS\n",
    "import Ipopt\n",
    "import Optimization"
   ]
  },
  {
   "cell_type": "code",
   "execution_count": 10,
   "id": "ca888cc7",
   "metadata": {},
   "outputs": [
    {
     "data": {
      "text/plain": [
       "4×4 Matrix{Float64}:\n",
       " 50.0  50.0   1.0e6  20.0\n",
       " 70.0  40.0  20.0    30.0\n",
       " 90.0  30.0  50.0     1.0e6\n",
       " 70.0  20.0  60.0    70.0"
      ]
     },
     "metadata": {},
     "output_type": "display_data"
    }
   ],
   "source": [
    "# Costos\n",
    "costs_p3 = [\n",
    "    50 50 1e6 20;\n",
    "    70 40 20 30;\n",
    "    90 30 50 1e6;\n",
    "    70 20 60 70\n",
    "]"
   ]
  },
  {
   "cell_type": "code",
   "execution_count": 12,
   "id": "e33a400c",
   "metadata": {},
   "outputs": [
    {
     "data": {
      "text/plain": [
       "4-element Vector{ConstraintRef{Model, MathOptInterface.ConstraintIndex{MathOptInterface.ScalarAffineFunction{Float64}, MathOptInterface.EqualTo{Float64}}, ScalarShape}}:\n",
       " x[1,1] + x[2,1] + x[3,1] + x[4,1] == 1\n",
       " x[1,2] + x[2,2] + x[3,2] + x[4,2] == 1\n",
       " x[1,3] + x[2,3] + x[3,3] + x[4,3] == 1\n",
       " x[1,4] + x[2,4] + x[3,4] + x[4,4] == 1"
      ]
     },
     "metadata": {},
     "output_type": "display_data"
    }
   ],
   "source": [
    "# Modelo\n",
    "model = Model(HiGHS.Optimizer)\n",
    "\n",
    "# Variables \n",
    "@variable(model, x[1:4, 1:4], Bin)\n",
    "\n",
    "# Objetivo\n",
    "@objective(model, Min, sum(costs_p3[i, j] * x[i, j] for i in 1:4, j in 1:4))\n",
    "\n",
    "# Restricciones\n",
    "\n",
    "# Cada trabajador i asignado a un único puesto\n",
    "@constraint(model,  [i in 1:4], sum(x[i, j] for j in 1:4) == 1)\n",
    "\n",
    "# Cada puesto j ocupado por un único trabajador\n",
    "@constraint(model,  [j in 1:4], sum(x[i, j] for i in 1:4) == 1)"
   ]
  },
  {
   "cell_type": "code",
   "execution_count": 13,
   "id": "fc35c2ad",
   "metadata": {},
   "outputs": [
    {
     "name": "stdout",
     "output_type": "stream",
     "text": [
      "Running HiGHS 1.11.0 (git hash: 364c83a51e): Copyright (c) 2025 HiGHS under MIT licence terms\n",
      "MIP  has 8 rows; 16 cols; 32 nonzeros; 16 integer variables (16 binary)\n",
      "Coefficient ranges:\n",
      "  Matrix [1e+00, 1e+00]\n",
      "  Cost   [2e+01, 1e+06]\n",
      "  Bound  [1e+00, 1e+00]\n",
      "  RHS    [1e+00, 1e+00]\n",
      "Presolving model\n",
      "8 rows, 16 cols, 32 nonzeros  0s\n",
      "8 rows, 16 cols, 32 nonzeros  0s\n",
      "Objective function is integral with scale 0.1\n",
      "\n",
      "Solving MIP model with:\n",
      "   8 rows\n",
      "   16 cols (16 binary, 0 integer, 0 implied int., 0 continuous, 0 domain fixed)\n",
      "   32 nonzeros\n",
      "\n",
      "Src: B => Branching; C => Central rounding; F => Feasibility pump; J => Feasibility jump;\n",
      "     H => Heuristic; L => Sub-MIP; P => Empty MIP; R => Randomized rounding; Z => ZI Round;\n",
      "     I => Shifting; S => Solve LP; T => Evaluate node; U => Unbounded; X => User solution;\n",
      "     z => Trivial zero; l => Trivial lower; u => Trivial upper; p => Trivial point\n",
      "\n",
      "        Nodes      |    B&B Tree     |            Objective Bounds              |  Dynamic Constraints |       Work      \n",
      "Src  Proc. InQueue |  Leaves   Expl. | BestBound       BestSol              Gap |   Cuts   InLp Confl. | LpIters     Time\n",
      "\n",
      " J       0       0         0   0.00%   -inf            1000200            Large        0      0      0         0     0.0s\n",
      " T       0       0         0   0.00%   0               140              100.00%        0      0      0         7     0.0s\n",
      "         1       0         1 100.00%   140             140                0.00%        0      0      0         7     0.0s\n",
      "\n",
      "Solving report\n",
      "  Status            Optimal\n",
      "  Primal bound      140\n",
      "  Dual bound        140\n",
      "  Gap               0% (tolerance: 0.01%)\n",
      "  P-D integral      0.00291299819946\n",
      "  Solution status   feasible\n",
      "                    140 (objective)\n",
      "                    0 (bound viol.)\n",
      "                    0 (int. viol.)\n",
      "                    0 (row viol.)\n",
      "  Timing            0.02 (total)\n",
      "                    0.00 (presolve)\n",
      "                    0.00 (solve)\n",
      "                    0.00 (postsolve)\n",
      "  Max sub-MIP depth 0\n",
      "  Nodes             1\n",
      "  Repair LPs        0 (0 feasible; 0 iterations)\n",
      "  LP iterations     7 (total)\n",
      "                    0 (strong br.)\n",
      "                    0 (separation)\n",
      "                    0 (heuristics)\n"
     ]
    }
   ],
   "source": [
    "# Resolver\n",
    "optimize!(model)"
   ]
  },
  {
   "cell_type": "code",
   "execution_count": 14,
   "id": "099df08d",
   "metadata": {},
   "outputs": [
    {
     "name": "stdout",
     "output_type": "stream",
     "text": [
      "Coste óptimo: $140.0\n",
      "Trabajador 1 -> Puesto 4 (coste=20.0)\n",
      "Trabajador 2 -> Puesto 3 (coste=20.0)\n",
      "Trabajador 3 -> Puesto 2 (coste=30.0)\n",
      "Trabajador 4 -> Puesto 1 (coste=70.0)\n"
     ]
    }
   ],
   "source": [
    "# Resultados\n",
    "println(\"Coste óptimo: \\$\", objective_value(model))\n",
    "for i in 1:4, j in 1:4\n",
    "    if value(x[i, j]) > 0.5\n",
    "        println(\"Trabajador $i -> Puesto $j (coste=\", costs_p3[i, j], \")\")\n",
    "    end\n",
    "end"
   ]
  }
 ],
 "metadata": {
  "kernelspec": {
   "display_name": "Julia 1.11.6",
   "language": "julia",
   "name": "julia-1.11"
  },
  "language_info": {
   "file_extension": ".jl",
   "mimetype": "application/julia",
   "name": "julia",
   "version": "1.11.6"
  }
 },
 "nbformat": 4,
 "nbformat_minor": 5
}
